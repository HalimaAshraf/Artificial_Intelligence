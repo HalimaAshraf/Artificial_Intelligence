{
  "nbformat": 4,
  "nbformat_minor": 0,
  "metadata": {
    "colab": {
      "provenance": []
    },
    "kernelspec": {
      "name": "python3",
      "display_name": "Python 3"
    },
    "language_info": {
      "name": "python"
    }
  },
  "cells": [
    {
      "cell_type": "code",
      "execution_count": null,
      "metadata": {
        "id": "4_-jrWIUgqC0"
      },
      "outputs": [],
      "source": [
        "graph = {\n",
        "\n",
        "'5' : ['3','7'],\n",
        "\n",
        "'3' : ['2', '4'],\n",
        "\n",
        "'7' : ['8'],\n",
        "\n",
        "'2' : [],\n",
        "\n",
        "'4' : ['8’],\n",
        "\n",
        "'8' : [],\n",
        "\n",
        "}\n",
        "\n",
        "visited = [] # List for visited nodes.\n",
        "\n",
        "queue = []     #Initialize a queue\n",
        "\n",
        "def bfs(visited, graph, node): #function for BFS\n",
        "\n",
        "visited.append(node) queue.append(node)\n",
        "\n",
        "while queue:\n",
        "\n",
        "m = queue.pop(0)\n",
        "\n",
        "print (m, end = ” “)\n",
        "\n",
        "for neighbour in graph[m]:\n",
        "\n",
        "if neighbour not in visited: \n",
        "visited.append(neighbour) \n",
        "  \\queue.append(neighbour)\n",
        "\n",
        "# Driver Code\n",
        "\n",
        "print(\"Following is the Breadth-First Search\")\n",
        "\n",
        "bfs(visited, graph, ‘5’)    # function calling\n",
        "\n",
        "In the above code,"
      ]
    },
    {
      "cell_type": "code",
      "source": [
        "graph = {\n",
        "    '5' : ['3','7'],\n",
        "    '3' : ['2', '4'],\n",
        "    '7' : ['8'],\n",
        "    '2' : [],\n",
        "    '4' : ['8'],\n",
        "    '8' : []\n",
        "    }\n",
        "\n",
        "visited = [] # List for visited nodes.\n",
        "\n",
        "queue = []     #Initialize a queue\n",
        "\n",
        "def bfs(visited, graph, node): #function for BFS\n",
        "\n",
        "  visited.append(node) \n",
        "  queue.append(node)\n",
        "\n",
        "  while queue:\n",
        "\n",
        "    m = queue.pop(0)\n",
        "\n",
        "    print (m, end = \" \")\n",
        "\n",
        "    for neighbour in graph[m]:\n",
        "\n",
        "      if neighbour not in visited: \n",
        "            visited.append(neighbour) \n",
        "            queue.append(neighbour)\n",
        "\n",
        "# Driver Code\n",
        "\n",
        "print(\"Following is the Breadth-First Search\")\n",
        "bfs(visited, graph, '5')    # function calling"
      ],
      "metadata": {
        "colab": {
          "base_uri": "https://localhost:8080/"
        },
        "id": "m5DFLCWeBJ3s",
        "outputId": "35ebd320-522a-45b8-9c22-ff4face7d2cc"
      },
      "execution_count": null,
      "outputs": [
        {
          "output_type": "stream",
          "name": "stdout",
          "text": [
            "Following is the Breadth-First Search\n",
            "5 3 7 2 4 8 "
          ]
        }
      ]
    },
    {
      "cell_type": "code",
      "source": [
        "graph = {\n",
        "    'A' : ['B','E','C'],\n",
        "    'B' : ['D', 'A','E'],\n",
        "    'E' : ['B','D','A'],\n",
        "    'C' : ['A','F','G'],\n",
        "    'D' : ['B','E'],\n",
        "    'F' : ['C'],\n",
        "    'G' : ['C']\n",
        "    }\n",
        "\n",
        "visited = [] # List for visited nodes.\n",
        "\n",
        "queue = []     #Initialize a queue\n",
        "\n",
        "def bfs(visited, graph, node): #function for BFS\n",
        "\n",
        "  visited.append(node) \n",
        "  queue.append(node)\n",
        "\n",
        "  while queue:\n",
        "\n",
        "    m = queue.pop(0)\n",
        "\n",
        "    print (m, end = \" \")\n",
        "\n",
        "    for neighbour in graph[m]:\n",
        "\n",
        "      if neighbour not in visited: \n",
        "            visited.append(neighbour) \n",
        "            queue.append(neighbour)\n",
        "\n",
        "# Driver Code\n",
        "\n",
        "print(\"Following is the Breadth-First Search\")\n",
        "bfs(visited, graph, 'A')    # function calling"
      ],
      "metadata": {
        "colab": {
          "base_uri": "https://localhost:8080/"
        },
        "id": "8_gqVwYsCMQL",
        "outputId": "3ce30ffe-2065-4b0c-b50c-9d2ddf24deca"
      },
      "execution_count": null,
      "outputs": [
        {
          "output_type": "stream",
          "name": "stdout",
          "text": [
            "Following is the Breadth-First Search\n",
            "A B E C D F G "
          ]
        }
      ]
    },
    {
      "cell_type": "markdown",
      "source": [
        "# New Section"
      ],
      "metadata": {
        "id": "jbF6mc9qiWQ5"
      }
    }
  ]
}