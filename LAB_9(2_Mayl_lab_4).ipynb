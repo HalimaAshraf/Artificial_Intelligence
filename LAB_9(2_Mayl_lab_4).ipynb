{
  "nbformat": 4,
  "nbformat_minor": 0,
  "metadata": {
    "colab": {
      "provenance": []
    },
    "kernelspec": {
      "name": "python3",
      "display_name": "Python 3"
    },
    "language_info": {
      "name": "python"
    }
  },
  "cells": [
    {
      "cell_type": "markdown",
      "source": [
        "Activity 1\n"
      ],
      "metadata": {
        "id": "f5e7jQKt6S_O"
      }
    },
    {
      "cell_type": "code",
      "source": [
        "class Node:\n",
        "  def __init__(self,state,parent,actions,totalCost):\n",
        "    self.state = state\n",
        "    self.parent = parent\n",
        "    self.actions = actions\n",
        "    self.totalCost = totalCost\n",
        "\n",
        "graph = {\n",
        "    'A': Node('A',None,['B','C','E'],None),\n",
        "    'B':Node('B',None,['A','D','E'],None),\n",
        "    'C':Node('C',None,['A','F','G'],None),\n",
        "    'D':Node('D',None,['B','E'],None),\n",
        "    'E':Node('E',None,['A','B','D'],None),\n",
        "    'F':Node('F',None,['C'],None),\n",
        "    'G':Node('G',None,['C'],None),\n",
        "}\n",
        "\n",
        "\n",
        "def acionSequence(graph, initialState,goalState):\n",
        "  solution = [goalState]\n",
        "  currentParent = graph[goalState].parent\n",
        "  while currentParent != None:\n",
        "    solution.append(currentParent)\n",
        "    currentParent = graph[currentParent].parent\n",
        "  solution.reverse()\n",
        "  print(solution)\n",
        "  return solution\n",
        "\n",
        "\n",
        "def BFS():\n",
        "  initialState = 'A'\n",
        "  goalState = 'D'\n",
        "  frontier = [initialState]\n",
        "  explored = []\n",
        "  \n",
        "  while len(frontier)!=0:\n",
        "    currentNode = frontier.pop(0)\n",
        "    explored.append(currentNode)\n",
        "    for child in graph[currentNode].actions:\n",
        "      if child not in frontier and child not in explored:\n",
        "        graph[child].parent = currentNode\n",
        "        if graph[child].state == goalState:\n",
        "          return acionSequence(graph,initialState,goalState)\n",
        "        frontier.append(child)\n",
        "solution = BFS()"
      ],
      "metadata": {
        "colab": {
          "base_uri": "https://localhost:8080/"
        },
        "id": "QDggTxtphRf-",
        "outputId": "cce72178-6be1-440b-f724-ac1488fce71f"
      },
      "execution_count": null,
      "outputs": [
        {
          "output_type": "stream",
          "name": "stdout",
          "text": [
            "['A', 'B', 'D']\n"
          ]
        }
      ]
    },
    {
      "cell_type": "markdown",
      "source": [
        "Activity 2"
      ],
      "metadata": {
        "id": "bpxbCeS06loL"
      }
    },
    {
      "cell_type": "code",
      "source": [
        "graph = {'A': Node ('A', None, ['B', 'E', 'C'], None),\n",
        "  'B': Node ('B', None, ['D', 'E', 'A'], None),\n",
        "  'C': Node ('C', None, ['A', 'F', 'G'], None),\n",
        "  'D': Node ('D', None, ['B', 'E'], None),\n",
        "  'E': Node ('E', None, ['A', 'B', 'D'], None),\n",
        "  'F': Node ('F', None, ['C'], None),\n",
        "  'G': Node ('G', None, ['C'], None)}\n",
        "\n",
        "def actionSequence (graph, initialState, goalState) :\n",
        "  solution=[goalState]\n",
        "  currentParent-graph [goalState].parent\n",
        "  while currentParent!=None:\n",
        "    solution.append (currentParent)\n",
        "    currentParent = graph [currentParent].parent\n",
        "  solution.reverse()\n",
        "  return solution\n",
        "\n",
        "def DFS ():\n",
        "  initialState = 'A'\n",
        "  goalState = 'D'\n",
        "  frontier = [initialState]\n",
        "  explored = []\n",
        "\n",
        "  while len(frontier)!=0:\n",
        "    currentNode = frontier.pop(len(frontier)-1)\n",
        "    explored.append(currentNode)\n",
        "    for child in graph[currentNode].actions:\n",
        "      if child not in frontier and child not in explored:\n",
        "        graph[child].parent = currentNode\n",
        "        if graph[child].state == goalState:\n",
        "          return acionSequence(graph,initialState,goalState)\n",
        "        frontier.append(child)\n",
        "solution = DFS()"
      ],
      "metadata": {
        "colab": {
          "base_uri": "https://localhost:8080/"
        },
        "id": "rvNaIFnZ5ykL",
        "outputId": "455a6114-23f7-4faf-8b01-eacbe1d9a9d4"
      },
      "execution_count": null,
      "outputs": [
        {
          "output_type": "stream",
          "name": "stdout",
          "text": [
            "['A', 'E', 'D']\n"
          ]
        }
      ]
    },
    {
      "cell_type": "code",
      "source": [
        "\n",
        "        "
      ],
      "metadata": {
        "id": "h2AWxdkfCUru"
      },
      "execution_count": null,
      "outputs": []
    }
  ]
}